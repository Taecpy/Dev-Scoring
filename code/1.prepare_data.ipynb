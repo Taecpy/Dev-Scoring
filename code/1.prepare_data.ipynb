{
 "cells": [
  {
   "cell_type": "code",
   "execution_count": 2,
   "metadata": {},
   "outputs": [],
   "source": [
    "import os\n",
    "import pandas as pd\n",
    "import numpy as np\n",
    "import glob"
   ]
  },
  {
   "cell_type": "code",
   "execution_count": 3,
   "metadata": {},
   "outputs": [],
   "source": [
    "input = 'Input//'\n",
    "output = 'Output//'\n",
    "rawdata = 'Input//Rawdata//'\n",
    "adjust_rawdata = 'Input//Adjust_rawdata//'\n",
    "# os.mkdir(input)\n",
    "# os.mkdir(output)\n",
    "# os.mkdir(rawdata)\n",
    "# os.mkdir(adjust_rawdata)"
   ]
  },
  {
   "cell_type": "code",
   "execution_count": 10,
   "metadata": {},
   "outputs": [],
   "source": [
    "def r_data():\n",
    "        rdata = glob.glob(rawdata+\"*.xlsx\")\n",
    "        df_list = []\n",
    "        for f in rdata:\n",
    "                df = pd.read_excel(f)\n",
    "                df_list.append(df)\n",
    "        A_data = pd.concat(df_list)\n",
    "        A_data.drop_duplicates(subset=['appl No','bslevel Credit'],inplace=True)\n",
    "        A_data.reset_index(drop=True,inplace=True) \n",
    "        A_data.drop(columns=['Row No'],inplace=True)\n",
    "        return A_data\n",
    "\n",
    "def data():\n",
    "    data = glob.glob(adjust_rawdata+\"*.csv\")[-1]\n",
    "    df = pd.read_csv(data,encoding = 'TIS-620')\n",
    "    df = df.iloc[:,[0,3,5,6,8,9,10,11,21,22,23,24,26,27,37,52,54,132,143]]\n",
    "    return df"
   ]
  },
  {
   "cell_type": "code",
   "execution_count": 11,
   "metadata": {},
   "outputs": [
    {
     "name": "stderr",
     "output_type": "stream",
     "text": [
      "c:\\Users\\630039\\Anaconda3\\lib\\site-packages\\IPython\\core\\interactiveshell.py:3338: DtypeWarning: Columns (50,67,83,84,101) have mixed types.Specify dtype option on import or set low_memory=False.\n",
      "  if (await self.run_code(code, result,  async_=asy)):\n"
     ]
    }
   ],
   "source": [
    "os.chdir(\"D:/630039/test_Dev_A-score\")\n",
    "# df = r_data()\n",
    "# df.to_csv(adjust_rawdata+'rawdata.csv',encoding='TIS-620',index=False)\n",
    "df = data()"
   ]
  },
  {
   "cell_type": "code",
   "execution_count": null,
   "metadata": {},
   "outputs": [],
   "source": [
    "## for example test\n",
    "t = glob.glob(adjust_rawdata+\"*.csv\")[-1]\n",
    "t2 = pd.read_csv(t,encoding = 'TIS-620')\n",
    "t2['Wrk Year'].unique()\n",
    "t2.columns\n",
    "pd.DataFrame(cols)\n",
    "t2 = t2.iloc[:,[0,3,5,6,8,9,10,11,21,22,23,24,26,27,37,52,54,132,143]]"
   ]
  }
 ],
 "metadata": {
  "kernelspec": {
   "display_name": "base",
   "language": "python",
   "name": "python3"
  },
  "language_info": {
   "codemirror_mode": {
    "name": "ipython",
    "version": 3
   },
   "file_extension": ".py",
   "mimetype": "text/x-python",
   "name": "python",
   "nbconvert_exporter": "python",
   "pygments_lexer": "ipython3",
   "version": "3.8.5"
  },
  "orig_nbformat": 4
 },
 "nbformat": 4,
 "nbformat_minor": 2
}
