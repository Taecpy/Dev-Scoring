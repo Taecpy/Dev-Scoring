{
 "cells": [
  {
   "cell_type": "code",
   "execution_count": 69,
   "metadata": {},
   "outputs": [],
   "source": [
    "import os\n",
    "import pandas as pd\n",
    "import numpy as np\n",
    "import glob\n",
    "from import_data import data\n",
    "import matplotlib.pyplot as plt\n",
    "import seaborn as sns"
   ]
  },
  {
   "cell_type": "code",
   "execution_count": 212,
   "metadata": {},
   "outputs": [],
   "source": [
    "#%%\n",
    "input = 'Input//'\n",
    "output = 'Output//'\n",
    "rawdata = 'Input//Rawdata//'\n",
    "adjust_rawdata = 'Input//Adjust_rawdata//'\n",
    "graph = 'visualization//'\n",
    "graph_v = 'visualization//variable//' \n",
    "# os.mkdir(input)\n",
    "# os.mkdir(output)\n",
    "# os.mkdir(rawdata)\n",
    "# os.mkdir(adjust_rawdata)\n",
    "# os.mkdir(graph)\n",
    "# os.mkdir(graph_v)"
   ]
  },
  {
   "cell_type": "markdown",
   "metadata": {},
   "source": [
    "## define_label"
   ]
  },
  {
   "cell_type": "code",
   "execution_count": 213,
   "metadata": {},
   "outputs": [],
   "source": [
    "### gender\n",
    "df['gender'] = df['gender'].replace({'ชาย':'male','หญิง':'female'})\n"
   ]
  },
  {
   "cell_type": "code",
   "execution_count": 216,
   "metadata": {},
   "outputs": [
    {
     "data": {
      "text/plain": [
       "appl No                  0\n",
       "id No                    0\n",
       "Age                    351\n",
       "gender                   6\n",
       "religion Name          351\n",
       "Country                351\n",
       "education              352\n",
       "marital Sts            351\n",
       "occ Desc TH            448\n",
       "occ Type Desc TH       826\n",
       "pos Desc TH            381\n",
       "bus Typ ISICName       381\n",
       "src Inc                374\n",
       "Wrk Year               379\n",
       "pgm Secure               0\n",
       "ADR01Home Own Typ      699\n",
       "ADR01Home Owner        465\n",
       "รายได้สุทธิต่อเดือน    803\n",
       "term                   437\n",
       "dtype: int64"
      ]
     },
     "execution_count": 216,
     "metadata": {},
     "output_type": "execute_result"
    }
   ],
   "source": [
    "df_na = df[df.isnull().any(axis=1)]\n",
    "df_na.isnull().sum()\n",
    "# df[df['religion Name'].isna()]"
   ]
  },
  {
   "cell_type": "markdown",
   "metadata": {},
   "source": [
    "## Graph"
   ]
  },
  {
   "cell_type": "code",
   "execution_count": 237,
   "metadata": {},
   "outputs": [],
   "source": [
    "## Age\n",
    "Age_M = round(df[\"Age\"].mean())\n",
    "df_v = pd.pivot_table(df, values=['appl No'], index=['Age'],dropna=False,aggfunc='count')\n",
    "# sns.lineplot(data=df_v, x=\"Age\", y=\"appl No\",linewidth=2.5).set(title='Age')\n",
    "# sns.set_style(\"white\")\n",
    "# plt.grid()\n",
    "# plt.text(50, 500, f'Mean = {Age_M}', fontsize=14, bbox=dict(boxstyle=\"round\", alpha=0.1))\n",
    "# plt.gcf()\n",
    "# plt.savefig(graph_v+'Age.jpg') \n"
   ]
  },
  {
   "cell_type": "code",
   "execution_count": 243,
   "metadata": {},
   "outputs": [],
   "source": [
    "df_v = pd.pivot_table(df, values=['appl No'], index=['gender'],aggfunc='count',dropna = False)\n",
    "df_v.reset_index(inplace =True)\n",
    "# sns.barplot(data=df_v, x=\"gender\", y=\"appl No\").set(title='gender')\n",
    "# sns.set_style(\"white\")\n",
    "# plt.gcf()\n",
    "# plt.savefig(graph_v+'gender.jpg') "
   ]
  }
 ],
 "metadata": {
  "kernelspec": {
   "display_name": "base",
   "language": "python",
   "name": "python3"
  },
  "language_info": {
   "codemirror_mode": {
    "name": "ipython",
    "version": 3
   },
   "file_extension": ".py",
   "mimetype": "text/x-python",
   "name": "python",
   "nbconvert_exporter": "python",
   "pygments_lexer": "ipython3",
   "version": "3.8.5"
  },
  "orig_nbformat": 4
 },
 "nbformat": 4,
 "nbformat_minor": 2
}
