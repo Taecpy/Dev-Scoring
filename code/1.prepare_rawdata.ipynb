{
 "cells": [
  {
   "cell_type": "code",
   "execution_count": 1,
   "metadata": {},
   "outputs": [],
   "source": [
    "import os\n",
    "import pandas as pd\n",
    "import numpy as np\n",
    "import glob"
   ]
  },
  {
   "cell_type": "code",
   "execution_count": 2,
   "metadata": {},
   "outputs": [],
   "source": [
    "input = 'Input//'\n",
    "output = 'Output//'\n",
    "rawdata = 'Input//Rawdata//'\n",
    "adjust_rawdata = 'Input//Adjust_rawdata//'\n",
    "# os.mkdir(input)\n",
    "# os.mkdir(output)\n",
    "# os.mkdir(rawdata)\n",
    "# os.mkdir(adjust_rawdata)"
   ]
  },
  {
   "cell_type": "code",
   "execution_count": 3,
   "metadata": {},
   "outputs": [],
   "source": [
    "def r_data():\n",
    "        rdata = glob.glob(rawdata+\"*.xlsx\")\n",
    "        df_list = []\n",
    "        for f in rdata:\n",
    "                df = pd.read_excel(f)\n",
    "                df_list.append(df)\n",
    "        A_data = pd.concat(df_list)\n",
    "        A_data.drop_duplicates(subset=['appl No','bslevel Credit'],inplace=True)\n",
    "        A_data.reset_index(drop=True,inplace=True) \n",
    "        A_data.drop(columns=['Row No'],inplace=True)\n",
    "        return A_data"
   ]
  },
  {
   "cell_type": "code",
   "execution_count": 7,
   "metadata": {},
   "outputs": [],
   "source": [
    "os.chdir(\"D:/630039/test_Dev_A-score\")\n",
    "df = r_data()\n",
    "# df.to_csv(adjust_rawdata+'rawdata.csv',encoding='TIS-620')"
   ]
  }
 ],
 "metadata": {
  "kernelspec": {
   "display_name": "base",
   "language": "python",
   "name": "python3"
  },
  "language_info": {
   "codemirror_mode": {
    "name": "ipython",
    "version": 3
   },
   "file_extension": ".py",
   "mimetype": "text/x-python",
   "name": "python",
   "nbconvert_exporter": "python",
   "pygments_lexer": "ipython3",
   "version": "3.8.5"
  },
  "orig_nbformat": 4
 },
 "nbformat": 4,
 "nbformat_minor": 2
}
